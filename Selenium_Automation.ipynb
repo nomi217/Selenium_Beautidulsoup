{
 "cells": [
  {
   "cell_type": "code",
   "execution_count": 17,
   "metadata": {},
   "outputs": [],
   "source": [
    "from selenium import webdriver\n",
    "from selenium.webdriver.common.keys import Keys"
   ]
  },
  {
   "cell_type": "code",
   "execution_count": 16,
   "metadata": {},
   "outputs": [
    {
     "name": "stdout",
     "output_type": "stream",
     "text": [
      "Enter Youtube Channel Name: programmingwithmosh\n"
     ]
    }
   ],
   "source": [
    "#driver=webdriver.Chrome()\n",
    "class Music():\n",
    "    def __init__(self):\n",
    "        self.driver=webdriver.Firefox()\n",
    "    \n",
    "    \n",
    "    def play(self):\n",
    "        name=input('Enter Youtube Channel Name: ')\n",
    "        self.driver.get(\"https://www.youtube.com/user/\"+name+\"/videos\")\n",
    "        \n",
    "        new=self.driver.find_element_by_xpath('//*[@id=\"video-title\"]')\n",
    "        new.click()\n",
    "        \n",
    "bot=Music()\n",
    "bot.play()"
   ]
  },
  {
   "cell_type": "code",
   "execution_count": 19,
   "metadata": {},
   "outputs": [],
   "source": [
    "from bs4 import BeautifulSoup\n",
    "import pandas as pd"
   ]
  },
  {
   "cell_type": "code",
   "execution_count": 24,
   "metadata": {},
   "outputs": [],
   "source": [
    "driver=webdriver.Chrome()\n",
    "name=[]\n",
    "ratings=[]\n",
    "driver.get('https://www.imdb.com/chart/top/?ref_=nv_mv_250')\n",
    "\n",
    "content=driver.page_source\n",
    "soup=BeautifulSoup(content)\n",
    "\n",
    "for a in soup.findAll('td',attrs={'class':'titleColumn'}):\n",
    "    name.append(str(a.text).strip())\n",
    "\n",
    "for b in soup.findAll('td',attrs={'class':'ratingColumn imdbRating'}):\n",
    "    ratings.append(str(b.text).strip())\n",
    "    \n",
    "df=pd.DataFrame({'Product Name': name,'Rating': ratings})\n",
    "df.to_csv('products.csv', index=True, encoding='utf-8')"
   ]
  }
 ],
 "metadata": {
  "kernelspec": {
   "display_name": "Python 3",
   "language": "python",
   "name": "python3"
  },
  "language_info": {
   "codemirror_mode": {
    "name": "ipython",
    "version": 3
   },
   "file_extension": ".py",
   "mimetype": "text/x-python",
   "name": "python",
   "nbconvert_exporter": "python",
   "pygments_lexer": "ipython3",
   "version": "3.7.4"
  }
 },
 "nbformat": 4,
 "nbformat_minor": 2
}
